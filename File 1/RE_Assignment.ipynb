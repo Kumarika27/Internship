{
 "cells": [
  {
   "cell_type": "code",
   "execution_count": 1,
   "id": "96fc7310",
   "metadata": {},
   "outputs": [],
   "source": [
    "import re"
   ]
  },
  {
   "cell_type": "code",
   "execution_count": 2,
   "id": "eec9ae36",
   "metadata": {},
   "outputs": [
    {
     "name": "stdout",
     "output_type": "stream",
     "text": [
      "Python:Exercises::PHP:exercises:\n"
     ]
    }
   ],
   "source": [
    "#Solution for Qyestion 1\n",
    "y = 'Python Exercises, PHP exercises.'\n",
    "replace= re.sub('[ ,.]', ':', y)\n",
    "print(replace)"
   ]
  },
  {
   "cell_type": "code",
   "execution_count": 3,
   "id": "5614e031",
   "metadata": {},
   "outputs": [
    {
     "name": "stdout",
     "output_type": "stream",
     "text": [
      "['a', 'a', 'e']\n"
     ]
    }
   ],
   "source": [
    "#Solution for Qyestion 2\n",
    "string = 'I am a Geologist'\n",
    "x = re.findall('[a-e]', string)\n",
    "print (x)"
   ]
  },
  {
   "cell_type": "code",
   "execution_count": 4,
   "id": "fa8f2670",
   "metadata": {},
   "outputs": [
    {
     "name": "stdout",
     "output_type": "stream",
     "text": [
      "['vast', 'Asia', 'with', 'rich']\n"
     ]
    }
   ],
   "source": [
    "#Solution for Qyestion 3\n",
    "string= 'India, a vast and diverse nation in South Asia, captivates with its rich history, cultures, and traditions.'\n",
    "pattern= re.compile(r'\\b\\w{4}\\b')\n",
    "result= re.findall(pattern, string)\n",
    "print(result)"
   ]
  },
  {
   "cell_type": "code",
   "execution_count": 5,
   "id": "87f33e23",
   "metadata": {},
   "outputs": [
    {
     "name": "stdout",
     "output_type": "stream",
     "text": [
      "['India', 'vast', 'and', 'South', 'Asia', 'with', 'its', 'rich', 'and']\n"
     ]
    }
   ],
   "source": [
    "#Solution for Qyestion 4\n",
    "string= 'India, a vast and diverse nation in South Asia, captivates with its rich history, cultures, and traditions.'\n",
    "pattern= re.compile(r'\\b\\w{3,5}\\b')\n",
    "result= re.findall(pattern, string)\n",
    "print(result)"
   ]
  },
  {
   "cell_type": "code",
   "execution_count": 36,
   "id": "bd22adea",
   "metadata": {},
   "outputs": [
    {
     "name": "stdout",
     "output_type": "stream",
     "text": [
      "example .com\", \"hr@fliprobo .com\", \"github .com\", \"Hello Data Science World\", \"Data Scientist\n"
     ]
    }
   ],
   "source": [
    "#Solution for Qyestion 5\n",
    "x= 'example (.com)\", \"hr@fliprobo (.com)\", \"github (.com)\", \"Hello (Data Science World)\", \"Data (Scientist)'\n",
    "y= re.compile(r'\\((.*?)\\)')\n",
    "A= y.sub(r'\\1', x)\n",
    "print(A)"
   ]
  },
  {
   "cell_type": "code",
   "execution_count": 7,
   "id": "d119a27c",
   "metadata": {},
   "outputs": [
    {
     "name": "stdout",
     "output_type": "stream",
     "text": [
      "example  \", \"hr@fliprobo  \", \"github  \", \"Hello  \", \"Data  \n"
     ]
    }
   ],
   "source": [
    "#Solution for Qyestion 6\n",
    "x= 'example (.com)\", \"hr@fliprobo (.com)\", \"github (.com)\", \"Hello (Data Science World)\", \"Data (Scientist)'\n",
    "y= re.compile(r'\\([^)]*\\)')\n",
    "z= y.sub(' ', x)\n",
    "print(z)"
   ]
  },
  {
   "cell_type": "code",
   "execution_count": 8,
   "id": "6185a3a1",
   "metadata": {},
   "outputs": [
    {
     "name": "stdout",
     "output_type": "stream",
     "text": [
      "['Importance', 'Of', 'Regular', 'Expressions', 'In', 'Python']\n"
     ]
    }
   ],
   "source": [
    "#Solution for Qyestion 7\n",
    "x = 'ImportanceOfRegularExpressionsInPython'\n",
    "y= re.findall('[A-Z][^A-Z]*', x)\n",
    "print(y)"
   ]
  },
  {
   "cell_type": "code",
   "execution_count": 9,
   "id": "0a9f1df0",
   "metadata": {},
   "outputs": [
    {
     "name": "stdout",
     "output_type": "stream",
     "text": [
      "RegularExpression 1 IsAn 2 ImportantTopic 3 InPython\n"
     ]
    }
   ],
   "source": [
    "#Solution for Qyestion 8\n",
    "x= 'RegularExpression1IsAn2ImportantTopic3InPython'\n",
    "y= re.compile(r'(?<=\\D)(?=\\d)|(?<=\\d)(?=\\D)')\n",
    "A= y.sub(' ', x)\n",
    "print(A)"
   ]
  },
  {
   "cell_type": "code",
   "execution_count": 10,
   "id": "0f42ed38",
   "metadata": {},
   "outputs": [
    {
     "name": "stdout",
     "output_type": "stream",
     "text": [
      "Regular Expression1 Is An2 Important Topic3 In Python\n"
     ]
    }
   ],
   "source": [
    "#Solution for Qyestion 9\n",
    "x= 'RegularExpression1IsAn2ImportantTopic3InPython'\n",
    "y= re.compile(r'(?<=[a-z0-9])(?=[A-Z])|(?<=[A-Z])(?=[A-Z0-9])|(?<=\\d)(?=\\D)')\n",
    "A= y.sub(' ', x)\n",
    "print(A)"
   ]
  },
  {
   "cell_type": "code",
   "execution_count": 11,
   "id": "4dc41993",
   "metadata": {},
   "outputs": [
    {
     "name": "stdout",
     "output_type": "stream",
     "text": [
      "['sarmahkumarika@gmail.com', 'sarmah401@gmail.com']\n"
     ]
    }
   ],
   "source": [
    "#Solution for Qyestion 10\n",
    "string= 'My name is Kumarika Sarmah and my emid address is sarmahkumarika@gmail.com or you can also reach me out at sarmah401@gmail.com'\n",
    "pattern= re.findall(r'[a-z0-9\\.\\-+_]+@[a-z0-9\\.\\-+_]+\\.[a-z]+', string)\n",
    "print(pattern)"
   ]
  },
  {
   "cell_type": "code",
   "execution_count": 12,
   "id": "c59d1e5c",
   "metadata": {},
   "outputs": [
    {
     "name": "stdout",
     "output_type": "stream",
     "text": [
      "None\n"
     ]
    }
   ],
   "source": [
    "#Solution for Qyestion 11\n",
    "x= 'In the programming world, naming conventions play a crucial role.Proper naming enhances_collaboration_among_teams and makes code maintenance_efficient.'\n",
    "y= re.match('^[a-zA-Z0-9_]*$', x)\n",
    "print(y)"
   ]
  },
  {
   "cell_type": "code",
   "execution_count": 47,
   "id": "e1520f27",
   "metadata": {},
   "outputs": [],
   "source": [
    "#Solution for Qyestion 12\n",
    "#Not able to solve"
   ]
  },
  {
   "cell_type": "code",
   "execution_count": 17,
   "id": "02d4f84f",
   "metadata": {},
   "outputs": [
    {
     "name": "stdout",
     "output_type": "stream",
     "text": [
      "2001.16.1.1\n"
     ]
    }
   ],
   "source": [
    "#Solution for Qyestion 13\n",
    "ip= '2001.016.01.1'\n",
    "string=re.sub('\\.[0]*', '.', ip)\n",
    "print(string)"
   ]
  },
  {
   "cell_type": "code",
   "execution_count": 37,
   "id": "eea7dd73",
   "metadata": {},
   "outputs": [
    {
     "name": "stdout",
     "output_type": "stream",
     "text": [
      "['August 15th 1947']\n"
     ]
    }
   ],
   "source": [
    "#Solution for Qyestion 14\n",
    "text= 'On August 15th 1947 that India was declared independent from British colonialism, and the reins of control were handed over to the leaders of the Country’'\n",
    "x= re.compile(r'\\b(?:January|February|March|April|May|June|July|August|September|October|November|December)\\s+\\d{1,2}(?:st|nd|rd|th)?\\s+\\d{4}\\b')\n",
    "A= x.findall(text)\n",
    "print(A)"
   ]
  },
  {
   "cell_type": "code",
   "execution_count": 45,
   "id": "6050f527",
   "metadata": {},
   "outputs": [
    {
     "ename": "AttributeError",
     "evalue": "'list' object has no attribute 'search'",
     "output_type": "error",
     "traceback": [
      "\u001b[1;31m---------------------------------------------------------------------------\u001b[0m",
      "\u001b[1;31mAttributeError\u001b[0m                            Traceback (most recent call last)",
      "\u001b[1;32m~\\AppData\\Local\\Temp/ipykernel_22664/2932275142.py\u001b[0m in \u001b[0;36m<module>\u001b[1;34m\u001b[0m\n\u001b[0;32m      2\u001b[0m \u001b[0mpattern\u001b[0m\u001b[1;33m=\u001b[0m \u001b[1;33m[\u001b[0m\u001b[1;34m'fox'\u001b[0m \u001b[1;33m,\u001b[0m\u001b[1;34m'dog'\u001b[0m\u001b[1;33m,\u001b[0m \u001b[1;34m'horse'\u001b[0m\u001b[1;33m]\u001b[0m\u001b[1;33m\u001b[0m\u001b[1;33m\u001b[0m\u001b[0m\n\u001b[0;32m      3\u001b[0m \u001b[0mtext\u001b[0m\u001b[1;33m=\u001b[0m \u001b[1;34m'The quick brown fox jumps over the lazy dog'\u001b[0m\u001b[1;33m\u001b[0m\u001b[1;33m\u001b[0m\u001b[0m\n\u001b[1;32m----> 4\u001b[1;33m \u001b[0mmatch\u001b[0m\u001b[1;33m=\u001b[0m \u001b[0mpattern\u001b[0m\u001b[1;33m.\u001b[0m\u001b[0msearch\u001b[0m\u001b[1;33m(\u001b[0m\u001b[0mpattern\u001b[0m\u001b[1;33m,\u001b[0m \u001b[0mtext\u001b[0m\u001b[1;33m)\u001b[0m\u001b[1;33m\u001b[0m\u001b[1;33m\u001b[0m\u001b[0m\n\u001b[0m\u001b[0;32m      5\u001b[0m \u001b[0mprint\u001b[0m\u001b[1;33m(\u001b[0m\u001b[0mmatch\u001b[0m\u001b[1;33m)\u001b[0m\u001b[1;33m\u001b[0m\u001b[1;33m\u001b[0m\u001b[0m\n",
      "\u001b[1;31mAttributeError\u001b[0m: 'list' object has no attribute 'search'"
     ]
    }
   ],
   "source": [
    "#Solution for Qyestion 15\n",
    "pattern= ['fox' ,'dog', 'horse']\n",
    "text= 'The quick brown fox jumps over the lazy dog'\n",
    "match= pattern.search(pattern, text)\n",
    "print(match)\n",
    "#Error poping, unable to understand"
   ]
  },
  {
   "cell_type": "code",
   "execution_count": 20,
   "id": "3922fb5f",
   "metadata": {},
   "outputs": [],
   "source": [
    "#Solution for Qyestion 16\n",
    "#Unable to solve"
   ]
  },
  {
   "cell_type": "code",
   "execution_count": 21,
   "id": "29e8daad",
   "metadata": {},
   "outputs": [
    {
     "name": "stdout",
     "output_type": "stream",
     "text": [
      "['exercises', 'exercises', 'exercises']\n"
     ]
    }
   ],
   "source": [
    "#Solution for Qyestion 17\n",
    "text = 'Python exercises, PHP exercises, C# exercises'\n",
    "pattern = 'exercises'\n",
    "print(re.findall(pattern, text))"
   ]
  },
  {
   "cell_type": "code",
   "execution_count": 22,
   "id": "2fa8bfbc",
   "metadata": {},
   "outputs": [
    {
     "name": "stdout",
     "output_type": "stream",
     "text": [
      "exercises\n",
      "exercises\n",
      "exercises\n"
     ]
    }
   ],
   "source": [
    "#Solution for Qyestion 18\n",
    "text = 'Python exercises, PHP exercises, C# exercises'\n",
    "pattern = 'exercises'\n",
    "for match in re.findall(pattern, text):\n",
    "    print(\"%s\" % match)"
   ]
  },
  {
   "cell_type": "code",
   "execution_count": 23,
   "id": "d7c4748a",
   "metadata": {},
   "outputs": [
    {
     "name": "stdout",
     "output_type": "stream",
     "text": [
      "30-08-1997\n"
     ]
    }
   ],
   "source": [
    "#Solution for Qyestion 19\n",
    "def format(dt):\n",
    "        return re.sub(r'(\\d{4})-(\\d{1,2})-(\\d{1,2})', '\\\\3-\\\\2-\\\\1', dt)\n",
    "dt1 = \"1997-08-30\"\n",
    "print(format(dt1))"
   ]
  },
  {
   "cell_type": "code",
   "execution_count": 46,
   "id": "e11fe1fc",
   "metadata": {},
   "outputs": [
    {
     "name": "stdout",
     "output_type": "stream",
     "text": [
      "['01.12', '145.8', '3.01', '27.25', '0.25']\n"
     ]
    }
   ],
   "source": [
    "#Solution for Qyestion 20\n",
    "x= '01.12 0132.123 2.31875 145.8 3.01 27.25 0.25'\n",
    "pattern= re.compile(r'\\b\\d+\\.\\d{1,2}\\b')\n",
    "A= pattern.findall(x)\n",
    "print(A)"
   ]
  },
  {
   "cell_type": "code",
   "execution_count": 25,
   "id": "c63478ce",
   "metadata": {},
   "outputs": [
    {
     "name": "stdout",
     "output_type": "stream",
     "text": [
      "28 10\n",
      "8 24\n"
     ]
    }
   ],
   "source": [
    "#Solution for Qyestion 21\n",
    "y = \"India has 28 states and 8 union territories.\"\n",
    "for i in re.finditer(\"\\d+\", y):\n",
    "    print(i.group(0), i.start())"
   ]
  },
  {
   "cell_type": "code",
   "execution_count": 26,
   "id": "13984024",
   "metadata": {},
   "outputs": [
    {
     "name": "stdout",
     "output_type": "stream",
     "text": [
      "950\n"
     ]
    }
   ],
   "source": [
    "#Solution for Qyestion 22\n",
    "x= 'My marks in each semester are: 947, 896, 926, 524, 734, 950, 642'\n",
    "y= re.findall('\\d+', x)\n",
    "print(max(y))"
   ]
  },
  {
   "cell_type": "code",
   "execution_count": 27,
   "id": "3afee97f",
   "metadata": {},
   "outputs": [
    {
     "name": "stdout",
     "output_type": "stream",
     "text": [
      "Regular Expression Is An Important Topic In Python\n"
     ]
    }
   ],
   "source": [
    "#Solution for Qyestion 23\n",
    "x= 'RegularExpression1IsAn2ImportantTopic3InPython'\n",
    "y= re.findall('[A-Z][a-z]*', x)\n",
    "print(' '.join((y)))"
   ]
  },
  {
   "cell_type": "code",
   "execution_count": 28,
   "id": "d7a7afc1",
   "metadata": {},
   "outputs": [],
   "source": [
    "#Solution for Qyestion 24"
   ]
  },
  {
   "cell_type": "code",
   "execution_count": 29,
   "id": "1c0c1f3c",
   "metadata": {},
   "outputs": [
    {
     "name": "stdout",
     "output_type": "stream",
     "text": [
      "Hello hello world\n"
     ]
    }
   ],
   "source": [
    "#Solution for Qyestion 25\n",
    "string = \"Hello hello world world\"\n",
    "y= re.compile(r'\\b(\\w+)(?:\\s+\\1)+\\b')\n",
    "A= y.sub(r'\\1', string)\n",
    "print(A)"
   ]
  },
  {
   "cell_type": "code",
   "execution_count": 30,
   "id": "df089e79",
   "metadata": {},
   "outputs": [
    {
     "name": "stdout",
     "output_type": "stream",
     "text": [
      "True\n"
     ]
    }
   ],
   "source": [
    "#Solution for Qyestion 26\n",
    "str = \"Arnavsarmah456\"\n",
    "print(bool(re.match('^[a-zA-Z0-9]+$', str)))"
   ]
  },
  {
   "cell_type": "code",
   "execution_count": 31,
   "id": "646c7b21",
   "metadata": {},
   "outputs": [
    {
     "name": "stdout",
     "output_type": "stream",
     "text": [
      "['#Doltiwal', '#xyzabc', '#Demonetization']\n"
     ]
    }
   ],
   "source": [
    "#Solution for Qyestion 27\n",
    "text= 'RT @kapil_kausik: #Doltiwal I mean #xyzabc is \"hurt\" by #Demonetization as the same has rendered USELESS <ed><U+00A0><U+00BD><ed><U+00B1><U+0089> \"acquired funds\" No wo'\n",
    "pattern= r'#\\S+'\n",
    "y=re.findall(pattern,text)\n",
    "print(y)             "
   ]
  },
  {
   "cell_type": "code",
   "execution_count": 32,
   "id": "8932fd79",
   "metadata": {},
   "outputs": [
    {
     "name": "stdout",
     "output_type": "stream",
     "text": [
      "@Jags123456 Bharat band on 28??<ed><ed>Those who  are protesting #demonetization  are all different party leaders\n"
     ]
    }
   ],
   "source": [
    "#Solution for Qyestion 28\n",
    "x= '@Jags123456 Bharat band on 28??<ed><U+00A0><U+00BD><ed><U+00B8><U+0082>Those who  are protesting #demonetization  are all different party leaders'\n",
    "y= re.compile(r'<U\\+[0-9A-Fa-f]+>')\n",
    "z= y.sub('', x)\n",
    "print(z)"
   ]
  },
  {
   "cell_type": "code",
   "execution_count": 33,
   "id": "ac155b49",
   "metadata": {},
   "outputs": [
    {
     "name": "stdout",
     "output_type": "stream",
     "text": [
      "['12-09-1992', '15-12-1999']\n"
     ]
    }
   ],
   "source": [
    "#Solution for Qyestion 29\n",
    "text= 'Ron was born on 12-09-1992 and he was admitted to school 15-12-1999.'\n",
    "pattern= '\\d{2}[/-]\\d{2}[/-]\\d{4}'\n",
    "y= re.findall(pattern, text)\n",
    "print(y)"
   ]
  },
  {
   "cell_type": "code",
   "execution_count": 34,
   "id": "b8db809c",
   "metadata": {},
   "outputs": [
    {
     "name": "stdout",
     "output_type": "stream",
     "text": [
      " following example creates ArrayList a capacity elements. 4 elements added ArrayList ArrayList trimmed accordingly.\n"
     ]
    }
   ],
   "source": [
    "#Solution for Qyestion 30\n",
    "string= \"The following example creates an ArrayList with a capacity of 50 elements. 4 elements are then added to the ArrayList and the ArrayList is trimmed accordingly.\"\n",
    "output = re.compile(r'\\W*\\b\\w{2,4}\\b')\n",
    "print(output.sub('', string))"
   ]
  }
 ],
 "metadata": {
  "kernelspec": {
   "display_name": "Python 3 (ipykernel)",
   "language": "python",
   "name": "python3"
  },
  "language_info": {
   "codemirror_mode": {
    "name": "ipython",
    "version": 3
   },
   "file_extension": ".py",
   "mimetype": "text/x-python",
   "name": "python",
   "nbconvert_exporter": "python",
   "pygments_lexer": "ipython3",
   "version": "3.9.7"
  }
 },
 "nbformat": 4,
 "nbformat_minor": 5
}
